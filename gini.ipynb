{
 "cells": [
  {
   "cell_type": "code",
   "execution_count": 13,
   "id": "a642bc78-05a2-4c12-83c8-0116beb67e5f",
   "metadata": {},
   "outputs": [],
   "source": [
    "# temp=0\n",
    "dict1={}\n",
    "def gini(data):\n",
    "    temp=0\n",
    "    for i in data:\n",
    "        if i in dict1:\n",
    "            dict1[i]+=1\n",
    "        else:\n",
    "            dict1[i]=1\n",
    "    for key,values in dict1.items():\n",
    "        temp+=(values/len(data))**2\n",
    "    print(dict1)\n",
    "    return 1-temp\n",
    "        "
   ]
  },
  {
   "cell_type": "code",
   "execution_count": 14,
   "id": "0cfa5b29-b05e-4339-ae69-211481a72afa",
   "metadata": {},
   "outputs": [
    {
     "name": "stdout",
     "output_type": "stream",
     "text": [
      "{'Apple': 3, 'Grape': 2}\n"
     ]
    },
    {
     "data": {
      "text/plain": [
       "0.48"
      ]
     },
     "execution_count": 14,
     "metadata": {},
     "output_type": "execute_result"
    }
   ],
   "source": [
    "data=['Apple','Grape', 'Apple','Apple','Grape']\n",
    "gini(data)"
   ]
  },
  {
   "cell_type": "code",
   "execution_count": null,
   "id": "11c97add-49a5-467a-ab74-e6d39c909369",
   "metadata": {},
   "outputs": [],
   "source": [
    "entropy+=-math.log2(values/len(data))"
   ]
  },
  {
   "cell_type": "code",
   "execution_count": null,
   "id": "7013beb6-9919-4a5c-98fe-85501975bb15",
   "metadata": {},
   "outputs": [],
   "source": []
  }
 ],
 "metadata": {
  "kernelspec": {
   "display_name": "Python 3 (ipykernel)",
   "language": "python",
   "name": "python3"
  },
  "language_info": {
   "codemirror_mode": {
    "name": "ipython",
    "version": 3
   },
   "file_extension": ".py",
   "mimetype": "text/x-python",
   "name": "python",
   "nbconvert_exporter": "python",
   "pygments_lexer": "ipython3",
   "version": "3.12.5"
  }
 },
 "nbformat": 4,
 "nbformat_minor": 5
}
