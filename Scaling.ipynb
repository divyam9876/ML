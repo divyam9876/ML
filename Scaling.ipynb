{
 "cells": [
  {
   "cell_type": "code",
   "execution_count": 1,
   "id": "23870544-5555-4b09-8e03-aa9c8635c491",
   "metadata": {},
   "outputs": [],
   "source": [
    "import numpy as np\n",
    "import pandas as pd\n",
    "import sklearn\n",
    "import matplotlib\n",
    "from sklearn import preprocessing\n",
    "import matplotlib.pyplot as plt\n",
    "import seaborn as sns"
   ]
  },
  {
   "cell_type": "markdown",
   "id": "8ae8a18c-2d82-4a66-800b-5e2a6cf602a5",
   "metadata": {},
   "source": [
    "**Standard Scaler**\n",
    "* x_dash = mean of x\n",
    "* σ = standard deviation\n",
    "* $x'=(x-x_dash)/σ$\n",
    "* makes mean 0 of each feature and variance 1\n",
    "* SVM,Logistic Regression\n",
    "* distort relative shapes"
   ]
  },
  {
   "cell_type": "markdown",
   "id": "53af9878-b877-4fcd-9588-7b9ae28c3508",
   "metadata": {},
   "source": [
    "**Min Max Scaler**\n",
    "* $x'=(x-min(x))/(max(x)-min(x)$\n",
    "* scales all data features to an interval[0,1]\n",
    "* doesn't distort data"
   ]
  },
  {
   "cell_type": "code",
   "execution_count": 2,
   "id": "0a8297b0-4783-4c05-93c6-f680702f4e52",
   "metadata": {},
   "outputs": [],
   "source": [
    "scaler=preprocessing.StandardScaler()\n",
    "# scaled_df=scaler.fit_transform(data)"
   ]
  },
  {
   "cell_type": "code",
   "execution_count": 3,
   "id": "c0411842-681b-4238-ad6b-d53ddac071e8",
   "metadata": {},
   "outputs": [],
   "source": [
    "# scaler1=preprocessing.MinMaxScaler()"
   ]
  },
  {
   "cell_type": "code",
   "execution_count": 4,
   "id": "31b8a173-77a3-4c3e-8cca-21d4ab542dcc",
   "metadata": {},
   "outputs": [],
   "source": [
    "def add2(x):\n",
    "    return x+2"
   ]
  },
  {
   "cell_type": "code",
   "execution_count": 5,
   "id": "abd62a5c-01f1-457a-b9d5-590e46bc61c5",
   "metadata": {},
   "outputs": [
    {
     "data": {
      "text/plain": [
       "23"
      ]
     },
     "execution_count": 5,
     "metadata": {},
     "output_type": "execute_result"
    }
   ],
   "source": [
    "add2(21)"
   ]
  },
  {
   "cell_type": "code",
   "execution_count": 6,
   "id": "6703f24e-caa1-475a-b615-07b502dceb9b",
   "metadata": {},
   "outputs": [],
   "source": [
    "x1=np.array([2,3,4,8])\n",
    "x2=np.array([33,12,20,30])"
   ]
  },
  {
   "cell_type": "markdown",
   "id": "aa74b92f-d8cf-4b07-8680-d72dc8677e01",
   "metadata": {},
   "source": [
    "**Create a DataFrame from the Arrays**"
   ]
  },
  {
   "cell_type": "code",
   "execution_count": 7,
   "id": "47aa3aa2-4eb8-430d-b370-e7ea23373600",
   "metadata": {},
   "outputs": [],
   "source": [
    "df=pd.DataFrame({'x1':x1,'x2':x2})"
   ]
  },
  {
   "cell_type": "code",
   "execution_count": 8,
   "id": "c836222a-26c6-46bb-a1f2-f49b2e7127c8",
   "metadata": {},
   "outputs": [
    {
     "data": {
      "text/html": [
       "<div>\n",
       "<style scoped>\n",
       "    .dataframe tbody tr th:only-of-type {\n",
       "        vertical-align: middle;\n",
       "    }\n",
       "\n",
       "    .dataframe tbody tr th {\n",
       "        vertical-align: top;\n",
       "    }\n",
       "\n",
       "    .dataframe thead th {\n",
       "        text-align: right;\n",
       "    }\n",
       "</style>\n",
       "<table border=\"1\" class=\"dataframe\">\n",
       "  <thead>\n",
       "    <tr style=\"text-align: right;\">\n",
       "      <th></th>\n",
       "      <th>x1</th>\n",
       "      <th>x2</th>\n",
       "    </tr>\n",
       "  </thead>\n",
       "  <tbody>\n",
       "    <tr>\n",
       "      <th>0</th>\n",
       "      <td>2</td>\n",
       "      <td>33</td>\n",
       "    </tr>\n",
       "    <tr>\n",
       "      <th>1</th>\n",
       "      <td>3</td>\n",
       "      <td>12</td>\n",
       "    </tr>\n",
       "    <tr>\n",
       "      <th>2</th>\n",
       "      <td>4</td>\n",
       "      <td>20</td>\n",
       "    </tr>\n",
       "    <tr>\n",
       "      <th>3</th>\n",
       "      <td>8</td>\n",
       "      <td>30</td>\n",
       "    </tr>\n",
       "  </tbody>\n",
       "</table>\n",
       "</div>"
      ],
      "text/plain": [
       "   x1  x2\n",
       "0   2  33\n",
       "1   3  12\n",
       "2   4  20\n",
       "3   8  30"
      ]
     },
     "execution_count": 8,
     "metadata": {},
     "output_type": "execute_result"
    }
   ],
   "source": [
    "df"
   ]
  },
  {
   "cell_type": "code",
   "execution_count": 9,
   "id": "1f1a9966-83d5-4d50-a51a-23230e026752",
   "metadata": {},
   "outputs": [
    {
     "data": {
      "text/plain": [
       "array([ 4,  5,  6, 10])"
      ]
     },
     "execution_count": 9,
     "metadata": {},
     "output_type": "execute_result"
    }
   ],
   "source": [
    "add2(x1)"
   ]
  },
  {
   "cell_type": "code",
   "execution_count": 10,
   "id": "8fc19dd0-93eb-4129-99c8-8294aace8ce7",
   "metadata": {},
   "outputs": [
    {
     "data": {
      "text/html": [
       "<div>\n",
       "<style scoped>\n",
       "    .dataframe tbody tr th:only-of-type {\n",
       "        vertical-align: middle;\n",
       "    }\n",
       "\n",
       "    .dataframe tbody tr th {\n",
       "        vertical-align: top;\n",
       "    }\n",
       "\n",
       "    .dataframe thead th {\n",
       "        text-align: right;\n",
       "    }\n",
       "</style>\n",
       "<table border=\"1\" class=\"dataframe\">\n",
       "  <thead>\n",
       "    <tr style=\"text-align: right;\">\n",
       "      <th></th>\n",
       "      <th>x1</th>\n",
       "      <th>x2</th>\n",
       "    </tr>\n",
       "  </thead>\n",
       "  <tbody>\n",
       "    <tr>\n",
       "      <th>0</th>\n",
       "      <td>4</td>\n",
       "      <td>35</td>\n",
       "    </tr>\n",
       "    <tr>\n",
       "      <th>1</th>\n",
       "      <td>5</td>\n",
       "      <td>14</td>\n",
       "    </tr>\n",
       "    <tr>\n",
       "      <th>2</th>\n",
       "      <td>6</td>\n",
       "      <td>22</td>\n",
       "    </tr>\n",
       "    <tr>\n",
       "      <th>3</th>\n",
       "      <td>10</td>\n",
       "      <td>32</td>\n",
       "    </tr>\n",
       "  </tbody>\n",
       "</table>\n",
       "</div>"
      ],
      "text/plain": [
       "   x1  x2\n",
       "0   4  35\n",
       "1   5  14\n",
       "2   6  22\n",
       "3  10  32"
      ]
     },
     "execution_count": 10,
     "metadata": {},
     "output_type": "execute_result"
    }
   ],
   "source": [
    "add2(df)"
   ]
  },
  {
   "cell_type": "code",
   "execution_count": 23,
   "id": "14b943af-16df-4d3b-8d89-bcfb822d0c7d",
   "metadata": {},
   "outputs": [],
   "source": [
    "def minMaxScaler(x):\n",
    "    # mini=np.min(x)\n",
    "    mini=min(x)\n",
    "    maxi=np.max(x)\n",
    "    x_new=(x-mini)/(maxi-mini)\n",
    "    return x_new"
   ]
  },
  {
   "cell_type": "code",
   "execution_count": 24,
   "id": "6051e9b3-2c49-4553-a710-a6e8818e527c",
   "metadata": {},
   "outputs": [],
   "source": [
    "X=np.array([2,3,4,8,10,20])\n"
   ]
  },
  {
   "cell_type": "code",
   "execution_count": 25,
   "id": "c429bd51-1f8c-4ea8-b1c8-5c23d87a7988",
   "metadata": {},
   "outputs": [
    {
     "data": {
      "text/plain": [
       "array([0.        , 0.05555556, 0.11111111, 0.33333333, 0.44444444,\n",
       "       1.        ])"
      ]
     },
     "execution_count": 25,
     "metadata": {},
     "output_type": "execute_result"
    }
   ],
   "source": [
    "minMaxScaler(X)"
   ]
  },
  {
   "cell_type": "code",
   "execution_count": 26,
   "id": "8c749ddf-4bdc-47d1-a604-8c558a8099e9",
   "metadata": {},
   "outputs": [],
   "source": [
    "from sklearn.preprocessing import MinMaxScaler\n",
    "scaler=MinMaxScaler()"
   ]
  },
  {
   "cell_type": "code",
   "execution_count": 15,
   "id": "95f831b8-75ca-4ab4-8929-234a31d84424",
   "metadata": {},
   "outputs": [
    {
     "data": {
      "text/plain": [
       "array([[0.        ],\n",
       "       [0.05555556],\n",
       "       [0.11111111],\n",
       "       [0.33333333],\n",
       "       [0.44444444],\n",
       "       [1.        ]])"
      ]
     },
     "execution_count": 15,
     "metadata": {},
     "output_type": "execute_result"
    }
   ],
   "source": [
    "scaler.fit_transform(X.reshape(-1,1))"
   ]
  },
  {
   "cell_type": "code",
   "execution_count": 16,
   "id": "0845f840-a079-4566-ba5e-2cb7e630f874",
   "metadata": {},
   "outputs": [],
   "source": [
    "a=minMaxScaler(X)\n",
    "b=scaler.fit_transform(X.reshape(-1,1))"
   ]
  },
  {
   "cell_type": "code",
   "execution_count": 17,
   "id": "7aa5537b-cec6-418b-8a69-4ea451177cb1",
   "metadata": {},
   "outputs": [
    {
     "data": {
      "text/plain": [
       "array([0.        , 0.05555556, 0.11111111, 0.33333333, 0.44444444,\n",
       "       1.        ])"
      ]
     },
     "execution_count": 17,
     "metadata": {},
     "output_type": "execute_result"
    }
   ],
   "source": [
    "b.ravel()"
   ]
  },
  {
   "cell_type": "code",
   "execution_count": 18,
   "id": "0d0ca69a-0577-4f73-a24f-216f4eace662",
   "metadata": {},
   "outputs": [
    {
     "data": {
      "text/plain": [
       "array([ 0.00000000e+00,  0.00000000e+00,  0.00000000e+00,  0.00000000e+00,\n",
       "       -5.55111512e-17,  0.00000000e+00])"
      ]
     },
     "execution_count": 18,
     "metadata": {},
     "output_type": "execute_result"
    }
   ],
   "source": [
    "a-b.ravel()"
   ]
  },
  {
   "cell_type": "code",
   "execution_count": 19,
   "id": "77b159aa-1d70-4a86-bcbf-495043a932d5",
   "metadata": {},
   "outputs": [
    {
     "data": {
      "text/html": [
       "<div>\n",
       "<style scoped>\n",
       "    .dataframe tbody tr th:only-of-type {\n",
       "        vertical-align: middle;\n",
       "    }\n",
       "\n",
       "    .dataframe tbody tr th {\n",
       "        vertical-align: top;\n",
       "    }\n",
       "\n",
       "    .dataframe thead th {\n",
       "        text-align: right;\n",
       "    }\n",
       "</style>\n",
       "<table border=\"1\" class=\"dataframe\">\n",
       "  <thead>\n",
       "    <tr style=\"text-align: right;\">\n",
       "      <th></th>\n",
       "      <th>x1</th>\n",
       "      <th>x2</th>\n",
       "    </tr>\n",
       "  </thead>\n",
       "  <tbody>\n",
       "    <tr>\n",
       "      <th>0</th>\n",
       "      <td>0.000000</td>\n",
       "      <td>1.000000</td>\n",
       "    </tr>\n",
       "    <tr>\n",
       "      <th>1</th>\n",
       "      <td>0.032258</td>\n",
       "      <td>0.322581</td>\n",
       "    </tr>\n",
       "    <tr>\n",
       "      <th>2</th>\n",
       "      <td>0.064516</td>\n",
       "      <td>0.580645</td>\n",
       "    </tr>\n",
       "    <tr>\n",
       "      <th>3</th>\n",
       "      <td>0.193548</td>\n",
       "      <td>0.903226</td>\n",
       "    </tr>\n",
       "  </tbody>\n",
       "</table>\n",
       "</div>"
      ],
      "text/plain": [
       "         x1        x2\n",
       "0  0.000000  1.000000\n",
       "1  0.032258  0.322581\n",
       "2  0.064516  0.580645\n",
       "3  0.193548  0.903226"
      ]
     },
     "execution_count": 19,
     "metadata": {},
     "output_type": "execute_result"
    }
   ],
   "source": [
    "minMaxScaler(df)"
   ]
  },
  {
   "cell_type": "code",
   "execution_count": 20,
   "id": "5cdada9e-977d-4727-ba55-9aed5e9fe009",
   "metadata": {},
   "outputs": [
    {
     "data": {
      "text/plain": [
       "array([[0.        , 1.        ],\n",
       "       [0.16666667, 0.        ],\n",
       "       [0.33333333, 0.38095238],\n",
       "       [1.        , 0.85714286]])"
      ]
     },
     "execution_count": 20,
     "metadata": {},
     "output_type": "execute_result"
    }
   ],
   "source": [
    "scaler.fit_transform(df)"
   ]
  },
  {
   "cell_type": "code",
   "execution_count": null,
   "id": "b725e35f-eb57-408c-9689-0c7f18462303",
   "metadata": {},
   "outputs": [],
   "source": []
  }
 ],
 "metadata": {
  "kernelspec": {
   "display_name": "Python 3 (ipykernel)",
   "language": "python",
   "name": "python3"
  },
  "language_info": {
   "codemirror_mode": {
    "name": "ipython",
    "version": 3
   },
   "file_extension": ".py",
   "mimetype": "text/x-python",
   "name": "python",
   "nbconvert_exporter": "python",
   "pygments_lexer": "ipython3",
   "version": "3.12.5"
  }
 },
 "nbformat": 4,
 "nbformat_minor": 5
}
