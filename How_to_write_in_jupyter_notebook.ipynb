{
 "cells": [
  {
   "cell_type": "markdown",
   "id": "4706837b-89f5-4277-b1c4-b64c76682e1b",
   "metadata": {},
   "source": [
    "# Hello "
   ]
  },
  {
   "cell_type": "markdown",
   "id": "0a4375c0-b706-4da9-92ea-1afeeeb4a542",
   "metadata": {},
   "source": [
    "$ 1+1 =2 $\n",
    "1.wertyuiojh\n",
    "* 1.hhwkk\n",
    "* 2.yghjk\n",
    "* "
   ]
  },
  {
   "cell_type": "markdown",
   "id": "2d67ffbf-8d8e-4901-b277-346117d2e29c",
   "metadata": {},
   "source": [
    "# ABCwer"
   ]
  },
  {
   "cell_type": "markdown",
   "id": "30e28f4d-6b08-4e04-a65a-7ca610cc368d",
   "metadata": {},
   "source": [
    "# -- Heading or bold\n",
    "*  bullet points\n",
    "*  $ 1+2 = 3$"
   ]
  },
  {
   "cell_type": "code",
   "execution_count": null,
   "id": "460cac07-188f-45ba-96e3-e80a375542e8",
   "metadata": {},
   "outputs": [],
   "source": []
  }
 ],
 "metadata": {
  "kernelspec": {
   "display_name": "Python 3 (ipykernel)",
   "language": "python",
   "name": "python3"
  },
  "language_info": {
   "codemirror_mode": {
    "name": "ipython",
    "version": 3
   },
   "file_extension": ".py",
   "mimetype": "text/x-python",
   "name": "python",
   "nbconvert_exporter": "python",
   "pygments_lexer": "ipython3",
   "version": "3.12.5"
  }
 },
 "nbformat": 4,
 "nbformat_minor": 5
}
