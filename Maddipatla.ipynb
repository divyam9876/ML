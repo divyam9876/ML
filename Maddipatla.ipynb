{
 "cells": [
  {
   "cell_type": "markdown",
   "id": "bc6550b0-ac0a-4a7b-944d-7f8712008b01",
   "metadata": {},
   "source": [
    "1.\n",
    "Shipment No   110-Volt     220-Volt   Total\n",
    "1              10            30         40\n",
    "2.             20            20         40\n",
    "3              30            10         40\n",
    "Total          60            60         120\n",
    "If the firm’s inspector picks an appliance at random (all shipments equally likely to be picked from) and \n",
    "finds it to be a 220-Volt appliance, what is the probability it came from shipment #1?\n",
    "total appliances=10+0+20+20+30+10=120\n",
    "220-Volt appliance from shipment is 30\n",
    "total 220-Volt appliances = 60\n",
    "P(shipment 1 220|220_volt)=30/60=0.5\n",
    "---------------------(OR)--------------------\n",
    "1.\n",
    "Shipment No   110-Volt     220-Volt   Total\n",
    "1              10            30         40\n",
    "2.             20            20         40\n",
    "3              30            10         40\n",
    "Total          60            60         120\n",
    "probability distribution table\n",
    "Shipment No   110-Volt     220-Volt   Total\n",
    "1              0.083         0.25         0.333\n",
    "2.             0.166         0.166      0.333\n",
    "3              0.25          0.083      0.333\n",
    "Total          0.5           0.5        1\n",
    "If the firm’s inspector picks an appliance at random (all shipments equally likely to be picked from) and \n",
    "finds it to be a 220-Volt appliance, what is the probability it came from shipment #1?\n",
    "P(shipment 1 220|220_volt)=0.25/0.5=0.5"
   ]
  },
  {
   "cell_type": "markdown",
   "id": "94f124b5-cbc2-4d6d-9305-05250e9785e8",
   "metadata": {},
   "source": [
    "2.Prior:P(having Cancer),P(tests positive|having cancer),P(tests negative|not having cancer)\n",
    "Evidence:tests positve\n",
    "Posterior:P(not having cancer|test positive)"
   ]
  },
  {
   "cell_type": "code",
   "execution_count": 2,
   "id": "cadd08b9-cb89-4394-aea1-eaaf7d62750c",
   "metadata": {},
   "outputs": [],
   "source": [
    "import numpy as np\n",
    "import pandas as pd\n",
    "import matplotlib.pyplot as plt"
   ]
  },
  {
   "cell_type": "code",
   "execution_count": 3,
   "id": "8368d654-ad54-4923-990f-b494d206d81e",
   "metadata": {},
   "outputs": [],
   "source": [
    "x=np.array([1,2,2.5,3,4,5,6])\n",
    "y=np.array([36,37.6,38,39,37,40,42])"
   ]
  },
  {
   "cell_type": "code",
   "execution_count": 4,
   "id": "41db4861-b372-4967-896d-ab3f9078fef5",
   "metadata": {},
   "outputs": [],
   "source": [
    "x=x.reshape(-1,1)\n",
    "y=y.reshape(-1,1)"
   ]
  },
  {
   "cell_type": "code",
   "execution_count": 5,
   "id": "1527ebe9-fae8-43c3-be5b-04c09a268dc0",
   "metadata": {},
   "outputs": [],
   "source": [
    "from sklearn.linear_model import LinearRegression"
   ]
  },
  {
   "cell_type": "code",
   "execution_count": 6,
   "id": "6298ce12-ab86-4513-b545-55745e20e03d",
   "metadata": {},
   "outputs": [],
   "source": [
    "model=LinearRegression()"
   ]
  },
  {
   "cell_type": "code",
   "execution_count": 7,
   "id": "673a1383-2ba3-4302-aaf3-e9f20b48e8bf",
   "metadata": {},
   "outputs": [
    {
     "data": {
      "text/html": [
       "<style>#sk-container-id-1 {color: black;background-color: white;}#sk-container-id-1 pre{padding: 0;}#sk-container-id-1 div.sk-toggleable {background-color: white;}#sk-container-id-1 label.sk-toggleable__label {cursor: pointer;display: block;width: 100%;margin-bottom: 0;padding: 0.3em;box-sizing: border-box;text-align: center;}#sk-container-id-1 label.sk-toggleable__label-arrow:before {content: \"▸\";float: left;margin-right: 0.25em;color: #696969;}#sk-container-id-1 label.sk-toggleable__label-arrow:hover:before {color: black;}#sk-container-id-1 div.sk-estimator:hover label.sk-toggleable__label-arrow:before {color: black;}#sk-container-id-1 div.sk-toggleable__content {max-height: 0;max-width: 0;overflow: hidden;text-align: left;background-color: #f0f8ff;}#sk-container-id-1 div.sk-toggleable__content pre {margin: 0.2em;color: black;border-radius: 0.25em;background-color: #f0f8ff;}#sk-container-id-1 input.sk-toggleable__control:checked~div.sk-toggleable__content {max-height: 200px;max-width: 100%;overflow: auto;}#sk-container-id-1 input.sk-toggleable__control:checked~label.sk-toggleable__label-arrow:before {content: \"▾\";}#sk-container-id-1 div.sk-estimator input.sk-toggleable__control:checked~label.sk-toggleable__label {background-color: #d4ebff;}#sk-container-id-1 div.sk-label input.sk-toggleable__control:checked~label.sk-toggleable__label {background-color: #d4ebff;}#sk-container-id-1 input.sk-hidden--visually {border: 0;clip: rect(1px 1px 1px 1px);clip: rect(1px, 1px, 1px, 1px);height: 1px;margin: -1px;overflow: hidden;padding: 0;position: absolute;width: 1px;}#sk-container-id-1 div.sk-estimator {font-family: monospace;background-color: #f0f8ff;border: 1px dotted black;border-radius: 0.25em;box-sizing: border-box;margin-bottom: 0.5em;}#sk-container-id-1 div.sk-estimator:hover {background-color: #d4ebff;}#sk-container-id-1 div.sk-parallel-item::after {content: \"\";width: 100%;border-bottom: 1px solid gray;flex-grow: 1;}#sk-container-id-1 div.sk-label:hover label.sk-toggleable__label {background-color: #d4ebff;}#sk-container-id-1 div.sk-serial::before {content: \"\";position: absolute;border-left: 1px solid gray;box-sizing: border-box;top: 0;bottom: 0;left: 50%;z-index: 0;}#sk-container-id-1 div.sk-serial {display: flex;flex-direction: column;align-items: center;background-color: white;padding-right: 0.2em;padding-left: 0.2em;position: relative;}#sk-container-id-1 div.sk-item {position: relative;z-index: 1;}#sk-container-id-1 div.sk-parallel {display: flex;align-items: stretch;justify-content: center;background-color: white;position: relative;}#sk-container-id-1 div.sk-item::before, #sk-container-id-1 div.sk-parallel-item::before {content: \"\";position: absolute;border-left: 1px solid gray;box-sizing: border-box;top: 0;bottom: 0;left: 50%;z-index: -1;}#sk-container-id-1 div.sk-parallel-item {display: flex;flex-direction: column;z-index: 1;position: relative;background-color: white;}#sk-container-id-1 div.sk-parallel-item:first-child::after {align-self: flex-end;width: 50%;}#sk-container-id-1 div.sk-parallel-item:last-child::after {align-self: flex-start;width: 50%;}#sk-container-id-1 div.sk-parallel-item:only-child::after {width: 0;}#sk-container-id-1 div.sk-dashed-wrapped {border: 1px dashed gray;margin: 0 0.4em 0.5em 0.4em;box-sizing: border-box;padding-bottom: 0.4em;background-color: white;}#sk-container-id-1 div.sk-label label {font-family: monospace;font-weight: bold;display: inline-block;line-height: 1.2em;}#sk-container-id-1 div.sk-label-container {text-align: center;}#sk-container-id-1 div.sk-container {/* jupyter's `normalize.less` sets `[hidden] { display: none; }` but bootstrap.min.css set `[hidden] { display: none !important; }` so we also need the `!important` here to be able to override the default hidden behavior on the sphinx rendered scikit-learn.org. See: https://github.com/scikit-learn/scikit-learn/issues/21755 */display: inline-block !important;position: relative;}#sk-container-id-1 div.sk-text-repr-fallback {display: none;}</style><div id=\"sk-container-id-1\" class=\"sk-top-container\"><div class=\"sk-text-repr-fallback\"><pre>LinearRegression()</pre><b>In a Jupyter environment, please rerun this cell to show the HTML representation or trust the notebook. <br />On GitHub, the HTML representation is unable to render, please try loading this page with nbviewer.org.</b></div><div class=\"sk-container\" hidden><div class=\"sk-item\"><div class=\"sk-estimator sk-toggleable\"><input class=\"sk-toggleable__control sk-hidden--visually\" id=\"sk-estimator-id-1\" type=\"checkbox\" checked><label for=\"sk-estimator-id-1\" class=\"sk-toggleable__label sk-toggleable__label-arrow\">LinearRegression</label><div class=\"sk-toggleable__content\"><pre>LinearRegression()</pre></div></div></div></div></div>"
      ],
      "text/plain": [
       "LinearRegression()"
      ]
     },
     "execution_count": 7,
     "metadata": {},
     "output_type": "execute_result"
    }
   ],
   "source": [
    "model.fit(x,y)"
   ]
  },
  {
   "cell_type": "code",
   "execution_count": 11,
   "id": "7ade65bc-96a2-474f-8dae-62235cee9163",
   "metadata": {},
   "outputs": [],
   "source": [
    "a=model.intercept_"
   ]
  },
  {
   "cell_type": "code",
   "execution_count": 12,
   "id": "65698fe0-a456-41f3-a4aa-edbbd9d10e93",
   "metadata": {},
   "outputs": [],
   "source": [
    "b=model.coef_"
   ]
  },
  {
   "cell_type": "code",
   "execution_count": 13,
   "id": "d62749ac-c390-4459-ac3e-cc2aa4065129",
   "metadata": {},
   "outputs": [],
   "source": [
    "a=a.item()"
   ]
  },
  {
   "cell_type": "code",
   "execution_count": 14,
   "id": "e68ea623-7d6c-4ba0-9a7a-8574e707ca3c",
   "metadata": {},
   "outputs": [],
   "source": [
    "b=b.item()"
   ]
  },
  {
   "cell_type": "code",
   "execution_count": 15,
   "id": "f755ae99-c348-4c24-a4cd-fafaf01f0cc7",
   "metadata": {},
   "outputs": [
    {
     "data": {
      "text/plain": [
       "0.986770428015564"
      ]
     },
     "execution_count": 15,
     "metadata": {},
     "output_type": "execute_result"
    }
   ],
   "source": [
    "b"
   ]
  },
  {
   "cell_type": "code",
   "execution_count": 16,
   "id": "b7b67988-a063-4b00-a712-d6706b73dc91",
   "metadata": {},
   "outputs": [
    {
     "data": {
      "image/png": "[encoded data removed]",
      "text/plain": [
       "<Figure size 640x480 with 1 Axes>"
      ]
     },
     "metadata": {},
     "output_type": "display_data"
    }
   ],
   "source": [
    "fig, ax=plt.subplots()\n",
    "ax.scatter(x,y,color='blue',label='Actual Data')\n",
    "ax.plot(x,a+b*x,color='red', label='Regression Line')\n",
    "ax.set_xlabel('X')\n",
    "ax.set_ylabel('Y')\n",
    "ax.set_title('Linear Regression')\n",
    "ax.legend()\n",
    "plt.show()"
   ]
  },
  {
   "cell_type": "code",
   "execution_count": 17,
   "id": "b40a432b-34d3-4e2f-a69e-50b2aa497bda",
   "metadata": {},
   "outputs": [
    {
     "data": {
      "text/plain": [
       "0.7353225803501029"
      ]
     },
     "execution_count": 17,
     "metadata": {},
     "output_type": "execute_result"
    }
   ],
   "source": [
    "model.score(x,y)"
   ]
  },
  {
   "cell_type": "markdown",
   "id": "9126e216-15f8-4122-8af4-26dff68b3200",
   "metadata": {},
   "source": [
    "3 \n",
    "a)y=35.201556420233466 + 0.9867704280155642*x\n",
    "b)done above\n",
    "c)r^2 score describes how good is the regression for this is 0.7355 which is some what close to 1.It is better but not completely best.The regresssion line is better fit to the data\n",
    "d)r^2 may be improved or it can be worsened."
   ]
  },
  {
   "cell_type": "code",
   "execution_count": 23,
   "id": "f9d9fd04-0226-4aff-a7c4-3619d91baed5",
   "metadata": {},
   "outputs": [
    {
     "name": "stdout",
     "output_type": "stream",
     "text": [
      "SSR: 17.874641467481947\n",
      "SST: 24.308571428571426\n",
      "SSE: 6.4339299610894995\n",
      "r^2: 0.7353225803501037\n"
     ]
    },
    {
     "data": {
      "text/plain": [
       "(17.874641467481947, 6.4339299610894995, 24.308571428571426, False)"
      ]
     },
     "execution_count": 23,
     "metadata": {},
     "output_type": "execute_result"
    }
   ],
   "source": [
    "def ss_errors(x_data,y_data):\n",
    "    y_predict=a+b*x_data\n",
    "    y_mean=np.mean(y_data)\n",
    "    ssr = np.sum((y_predict-y_mean)**2)\n",
    "    sse = np.sum((y_data-y_predict)**2)\n",
    "    sst = np.sum((y_data-y_mean)**2)\n",
    "    print('SSR:',ssr)\n",
    "    print('SST:',sst)\n",
    "    print('SSE:',sse)\n",
    "    print('r^2:',ssr/sst)\n",
    "    return ssr, sse, sst,sst==ssr+sse\n",
    "    #return 'SST=SSR+SSE',sst==ssr+sse\n",
    "    # i don't know why it shows false for sst=ssr+sse\n",
    "ss_errors(x,y)\n",
    "# print(a,b)"
   ]
  },
  {
   "cell_type": "code",
   "execution_count": 19,
   "id": "ef721e60-384d-494e-9844-eec5f7c231ac",
   "metadata": {},
   "outputs": [
    {
     "data": {
      "text/plain": [
       "24.308571428571444"
      ]
     },
     "execution_count": 19,
     "metadata": {},
     "output_type": "execute_result"
    }
   ],
   "source": [
    " 17.87464146748194+6.433929961089505"
   ]
  },
  {
   "cell_type": "markdown",
   "id": "950eeef0-6edf-4eba-b857-aa07341438e3",
   "metadata": {},
   "source": [
    "SST is almost equal to SSR+SSE; but the test SST==SSR+SSE fails because of floating point errors. See the above calculations where I modified your code just a bit.\n"
   ]
  }
 ],
 "metadata": {
  "kernelspec": {
   "display_name": "Python 3 (ipykernel)",
   "language": "python",
   "name": "python3"
  },
  "language_info": {
   "codemirror_mode": {
    "name": "ipython",
    "version": 3
   },
   "file_extension": ".py",
   "mimetype": "text/x-python",
   "name": "python",
   "nbconvert_exporter": "python",
   "pygments_lexer": "ipython3",
   "version": "3.9.6"
  }
 },
 "nbformat": 4,
 "nbformat_minor": 5
}
